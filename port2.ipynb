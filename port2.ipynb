{
  "nbformat": 4,
  "nbformat_minor": 0,
  "metadata": {
    "colab": {
      "provenance": [],
      "authorship_tag": "ABX9TyPD7FrBdy9w6cNc97vsO55T",
      "include_colab_link": true
    },
    "kernelspec": {
      "name": "python3",
      "display_name": "Python 3"
    },
    "language_info": {
      "name": "python"
    }
  },
  "cells": [
    {
      "cell_type": "markdown",
      "metadata": {
        "id": "view-in-github",
        "colab_type": "text"
      },
      "source": [
        "<a href=\"https://colab.research.google.com/github/alzaavi/lda2/blob/main/port2.ipynb\" target=\"_parent\"><img src=\"https://colab.research.google.com/assets/colab-badge.svg\" alt=\"Open In Colab\"/></a>"
      ]
    },
    {
      "cell_type": "markdown",
      "source": [
        "# New section"
      ],
      "metadata": {
        "id": "VTkJEOi_emfd"
      }
    },
    {
      "cell_type": "code",
      "source": [
        "from google.colab import drive\n",
        "import numpy as np\n",
        "import cv2\n",
        "from IPython.display import clear_output\n",
        "\n",
        "# Clone the GitHub repository containing the video files\n",
        "!git clone https://github.com/alzaavi/lda2.git\n",
        "\n",
        "def detect_circle(frame):\n",
        "    gray = cv2.cvtColor(frame, cv2.COLOR_BGR2GRAY)\n",
        "    blur = cv2.GaussianBlur(gray, (5, 5), 0)\n",
        "    thresh = cv2.adaptiveThreshold(blur, 255, cv2.ADAPTIVE_THRESH_GAUSSIAN_C, cv2.THRESH_BINARY_INV, 11, 2)\n",
        "    \n",
        "    kernel = np.ones((3, 3), np.uint8)\n",
        "    morph = cv2.morphologyEx(thresh, cv2.MORPH_CLOSE, kernel, iterations=2)\n",
        "\n",
        "    contours, _ = cv2.findContours(morph, cv2.RETR_EXTERNAL, cv2.CHAIN_APPROX_SIMPLE)\n",
        "\n",
        "    circle_centers = []\n",
        "    for cnt in contours:\n",
        "        (a, b), radius = cv2.minEnclosingCircle(cnt)\n",
        "        if radius > 10:  # Set a minimum radius to filter out small contours\n",
        "            circle_centers.append((int(a), int(b)))\n",
        "    \n",
        "    return circle_centers\n",
        "\n",
        "def find_first_peak(heights):\n",
        "    for i in range(1, len(heights) - 1):\n",
        "        if heights[i-1] < heights[i] > heights[i+1]:\n",
        "            return i\n",
        "    return -1\n",
        "\n",
        "def calculate_coefficient(video_path):\n",
        "    video_capture = cv2.VideoCapture(video_path)\n",
        "\n",
        "    ref_point = (0, 480)\n",
        "    \n",
        "    success, frame = video_capture.read()\n",
        "    if not success:\n",
        "        print(\"Error reading frame\")\n",
        "        exit()\n",
        "    \n",
        "    # Resize the frame\n",
        "    frame = cv2.resize(frame, (int(frame.shape[1] * 0.5), int(frame.shape[0] * 0.5)))\n",
        "    \n",
        "    circle_centers_list = detect_circle(frame)\n",
        "    height_list = [ref_point[1] - circle_centers_list[0][1]]\n",
        "    \n",
        "    frame_idx = 0\n",
        "    skip_frames_count = 5  # Skip every 5 frames\n",
        "    \n",
        "    while video_capture.isOpened():\n",
        "        success, frame = video_capture.read()\n",
        "        if not success:\n",
        "            break\n",
        "\n",
        "        frame_idx += 1\n",
        "\n",
        "        # Skip frames\n",
        "        if frame_idx % skip_frames_count == 0:\n",
        "            # Resize the frame\n",
        "            frame = cv2.resize(frame, (int(frame.shape[1] * 0.5), int(frame.shape[0] * 0.5)))\n",
        "\n",
        "            circle_centers = detect_circle(frame)\n",
        "            circle_centers_list.extend(circle_centers)\n",
        "            dist = ref_point[1] - circle_centers_list[-1][1]\n",
        "            height_list.append(dist)\n",
        "    \n",
        "    video_capture.release()\n",
        "\n",
        "    initial_height = height_list[0]\n",
        "    first_peak_idx = find_first_peak(height_list)\n",
        "    bounce_height = min(height_list[first_peak_idx+1:])\n",
        "    restitution_coeff = np.sqrt(bounce_height / initial_height)\n",
        "    return restitution_coeff\n",
        "\n",
        "video_file_names = [\n",
        "    \"IMG_0663 2.mov\",\n",
        "    \"IMG_0664 2.mov\",\n",
        "    \"IMG_0665 2.mov\",\n",
        "    \"IMG_0666 2.mov\",\n",
        "    \"IMG_0668 2.mov\",\n",
        "    \"IMG_0669 2.mov\",\n",
        "    \"IMG_0673 2.mov\",\n",
        "    \"IMG_0674 2.mov\",\n",
        "    \"IMG_0675 2.mov\"\n",
        "]\n",
        "\n",
        "for vid_file in video_file_names:\n",
        "    video_path = f\"lda2/{vid_file}\"\n",
        "    coeff = calculate_coefficient(video_path)\n",
        "    print(f\"Coefficient of restitution for {vid_file}: {coeff}\")\n"
      ],
      "metadata": {
        "colab": {
          "base_uri": "https://localhost:8080/"
        },
        "id": "_vxAQqGw0KM9",
        "outputId": "272e3387-6e36-49d8-b63f-cfbcd7d35442"
      },
      "execution_count": 9,
      "outputs": [
        {
          "output_type": "stream",
          "name": "stdout",
          "text": [
            "fatal: destination path 'lda2' already exists and is not an empty directory.\n",
            "Coefficient of restitution for IMG_0663 2.mov: 0.5944694961101522\n",
            "Coefficient of restitution for IMG_0664 2.mov: 0.5934988596101457\n",
            "Coefficient of restitution for IMG_0665 2.mov: 0.5962326324467672\n",
            "Coefficient of restitution for IMG_0666 2.mov: 0.6014910328186378\n",
            "Coefficient of restitution for IMG_0668 2.mov: 0.604392598296949\n",
            "Coefficient of restitution for IMG_0669 2.mov: 0.6028643115587955\n",
            "Coefficient of restitution for IMG_0673 2.mov: 0.5950577886797546\n",
            "Coefficient of restitution for IMG_0674 2.mov: 0.5946776072651745\n",
            "Coefficient of restitution for IMG_0675 2.mov: 0.5885542295962601\n"
          ]
        }
      ]
    }
  ]
}